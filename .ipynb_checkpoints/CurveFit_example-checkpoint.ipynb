{
 "cells": [
  {
   "cell_type": "markdown",
   "id": "3f16e466",
   "metadata": {},
   "source": [
    "# <center>Code guide</center>\n",
    "\n",
    "### run this to import all necessary functions:\n",
    "```python\n",
    "# for faster version using JIT (just-in-time) compiler \n",
    "JIT = True\n",
    "if JIT:\n",
    "    from master_functions_jit import *\n",
    "else:\n",
    "    from master_functions import *\n",
    "```\n",
    "\n",
    "\n",
    "### As an example, 4 responses with different characteristics were generated. The example is provided <span style=\"font-size: 80%;\">(there is no need to repeat steps 1-8 detailed here)</span>:\n",
    "\n",
    "1. **setting up:**\n",
    "```python\n",
    "dt = 0.05\n",
    "xmax = 200\n",
    "bl = 20 # baseline\n",
    "x1 = np.arange(0, xmax-bl, dt) \n",
    "rms = 2\n",
    "```\n",
    "\n",
    "2.  **alpha:**\n",
    "```python\n",
    "np.random.seed(42)\n",
    "# create 5 responses at given ISI\n",
    "ISI = 20  # frequency in Hz\n",
    "params = [50, 80, 100, 110, 110, 5]  # Example parameter list of form [A1, A2, A3, A4, A5, tau]\n",
    "if JIT: params = List([p for p in params]) # convert to a Numba typed list\n",
    "n = len(params) - 1  # number of responses is one less than the length of params\n",
    "\n",
    "# Generate train of alpha responses\n",
    "_, y = model_n(params, ISI, n, x1, model='alpha')\n",
    "\n",
    "# add a baseline\n",
    "idx = int(bl/dt) - 1\n",
    "y = np.concatenate([np.zeros(idx), y])\n",
    "x = np.arange(0, len(y))*dt\n",
    "\n",
    "# add noise    \n",
    "y1 = y + np.random.normal(0, rms, len(x))\n",
    "```\n",
    "\n",
    "3. **sum of 2 alphas:**\n",
    "```python\n",
    "np.random.seed(42)\n",
    "params = [50, 80, 100, 110, 110, 5, 20, 30, 25, 15, 10, 15] # Example parameter list of form [A11, A12, A13, A14, A15, tau1, A21, A22, A23, A24, A25, tau2]\n",
    "params = List([p for p in params])\n",
    "if JIT: params = List([p for p in params]) # convert to a Numba typed list\n",
    "n = int(len(params)/2) - 1  # number of responses is one less than the length of params\n",
    "\n",
    "# Generate train of sum of 2 alpha responses\n",
    "_, y = model_n(params, ISI, n, x1, model='alpha2')\n",
    "\n",
    "# add a baseline\n",
    "y = np.concatenate([np.zeros(idx), y])\n",
    "    \n",
    "# add noise    \n",
    "y2 = y + np.random.normal(0, rms, len(x))\n",
    "```\n",
    "4. **product**:\n",
    "```python\n",
    "np.random.seed(42)\n",
    "params = [50, 80, 100, 110, 110, 3, 10]  # params of form [A1, A2, A3, A4, A5, T1, T2]\n",
    "if JIT: params = List([p for p in params]) # convert to a Numba typed list\n",
    "n = int(len(params)) - 2  # number of responses is two less than the length of params\n",
    "\n",
    "# Generate train of sum of 2 alpha responses\n",
    "_, y = model_n(params, ISI, n, x1, model='product')\n",
    "\n",
    "# add a baseline\n",
    "y = np.concatenate([np.zeros(idx), y])\n",
    "    \n",
    "# add noise    \n",
    "y3 = y + np.random.normal(0, rms, len(x))\n",
    "```\n",
    "5. **sum of 2 products:**\n",
    "```python\n",
    "np.random.seed(42)\n",
    "params = [30, 60, 80, 90, 95, 3, 10, 20, 30, 35, 35, 25, 10, 20]  # params of form [A11, A12, A13, A14, A15, T11, T12, A21, A22, A23, A24, A25, T21, T22]\n",
    "if JIT: params = List([p for p in params]) # convert to a Numba typed list\n",
    "n = int(len(params)/2) - 2  # number of responses is two less than half the length of params\n",
    "\n",
    "# Generate train of sum of 2 alpha responses\n",
    "_, y = model_n(params, ISI, n, x1, model='product2')\n",
    "\n",
    "# add a baseline\n",
    "y = np.concatenate([np.zeros(idx), y])\n",
    "    \n",
    "# add noise    \n",
    "y4 = y + np.random.normal(0, rms, len(x))\n",
    "```\n",
    "6. **create a dataframe:**\n",
    "```python\n",
    "df = pd.DataFrame({\n",
    "    'x': x,\n",
    "    'y1': y1,\n",
    "    'y2': y2,\n",
    "    'y3': y3,\n",
    "    'y4': y4\n",
    "})\n",
    "```\n",
    "\n",
    "7. **check if the directory exists, if not create it:**\n",
    "```python\n",
    "directory = \"example data\"\n",
    "if not os.path.exists(directory):\n",
    "    os.makedirs(directory)\n",
    "```\n",
    "\n",
    "8. **export the dataframe to a csv file with explicit comma delimiter:**\n",
    "```python\n",
    "df.to_csv(os.path.join(directory, 'eg_data.csv'), sep=',', index=False)\n",
    "```\n",
    "\n",
    "\n",
    "### Analysing provided example\n",
    "\n",
    "1. **load example data:**\n",
    "```python\n",
    "x, df = load_data(folder='example data', filename='eg_data.csv', time=True)\n",
    "```\n",
    "\n",
    "2. **choose a trace (in this case, the 4th in the dataframe, df):**\n",
    "```python\n",
    "y = df.iloc[:, 3].values\n",
    "```\n",
    "**nb** if data contains n traces then inputing ```y = df.iloc[:, 0].values``` retrieves the first trace and ```y = df.iloc[:, n-1].values ``` the last one\n",
    "\n",
    "3. **fitting sum of 2 product functions to individual traces:**\n",
    "```python\n",
    "# set a seed\n",
    "np.random.seed(42)\n",
    "\n",
    "nFIT(x=x, y=y, n=5, ISI=20, bl=20, model='product2')\n",
    "```\n",
    "\n",
    "4. **batch fitting sum of 2 product functions to all traces:**\n",
    "```python\n",
    "# set a seed\n",
    "np.random.seed(42) \n",
    "out = nFITbatch(x, df, n=5, ISI=20, bl=20, model='product2')\n",
    "# to view the results:\n",
    "results[0]\n",
    "# also returns results as per the original method:\n",
    "results[2]\n",
    "# results[2] is an alternative form of the results[0]; results[2] can be converted to a (shortened) form of results[0] using:\n",
    "product_conversion_df(results[2])\n",
    "# nb. slight differences in areas are due to rounding errors\n",
    "```\n",
    "\n",
    "\n"
   ]
  },
  {
   "cell_type": "code",
   "execution_count": null,
   "id": "d96b7d3a",
   "metadata": {},
   "outputs": [],
   "source": [
    "# run this to import all necessary functions\n",
    "import os\n",
    "from os import walk\n",
    "import numpy as np\n",
    "import pandas as pd\n",
    "import random\n",
    "import math\n",
    "import plotly.graph_objects as go\n",
    "from scipy.optimize import minimize\n",
    "from scipy.optimize import curve_fit\n",
    "from scipy.optimize import least_squares\n",
    "from scipy.optimize import fsolve\n",
    "from scipy.stats import norm\n",
    "from tqdm import tqdm\n",
    "import warnings\n",
    "# alternative to optimisation by curvefit\n",
    "from scipy.optimize import differential_evolution\n",
    "from scipy.signal import butter, lfilter\n",
    "from scipy import stats\n",
    "from ipywidgets import interact, FloatSlider\n",
    "\n",
    "# for plotly graph display offline inside the notebook itself.\n",
    "import plotly.offline as pyo\n",
    "from plotly.offline import init_notebook_mode\n",
    "import os\n",
    "\n",
    "from master_functions import *\n",
    "\n",
    "# from helper_functions import *"
   ]
  },
  {
   "cell_type": "code",
   "execution_count": null,
   "id": "ae683b25",
   "metadata": {},
   "outputs": [],
   "source": [
    "# load example data\n",
    "x, df = load_data(folder='example data', filename='eg_data.csv', stim_time=25, baseline=True, time=True)"
   ]
  },
  {
   "cell_type": "code",
   "execution_count": null,
   "id": "6a1ae27d-f8b2-48fb-9689-2599f2cce56b",
   "metadata": {},
   "outputs": [],
   "source": [
    "# examine data by loading data frame\n",
    "df"
   ]
  },
  {
   "cell_type": "code",
   "execution_count": null,
   "id": "bbd88688",
   "metadata": {},
   "outputs": [],
   "source": [
    "# choose a column of data\n",
    "y = df.iloc[:, 0].values"
   ]
  },
  {
   "cell_type": "code",
   "execution_count": null,
   "id": "4cb90a9a",
   "metadata": {},
   "outputs": [],
   "source": [
    "# Example usage fitting single alpha\n",
    "# set a seed\n",
    "np.random.seed(7)\n",
    "FITalpha(x, y)"
   ]
  },
  {
   "cell_type": "code",
   "execution_count": null,
   "id": "4fd32221",
   "metadata": {},
   "outputs": [],
   "source": [
    "# Example usage fitting sum of 2 alpha functions to simple product above\n",
    "# set a seed\n",
    "np.random.seed(7)\n",
    "FITalpha2(x, y)"
   ]
  },
  {
   "cell_type": "code",
   "execution_count": null,
   "id": "770f48cb",
   "metadata": {},
   "outputs": [],
   "source": [
    "# Example usage fitting product functions to simple response\n",
    "# set a seed\n",
    "np.random.seed(7)\n",
    "FITproduct(x, y)"
   ]
  },
  {
   "cell_type": "code",
   "execution_count": null,
   "id": "bb27c804",
   "metadata": {},
   "outputs": [],
   "source": [
    "# Example usage fitting product functions to simple response\n",
    "# set a seed\n",
    "np.random.seed(7)\n",
    "FITproduct2(x, y)"
   ]
  },
  {
   "cell_type": "code",
   "execution_count": null,
   "id": "f7018b7e",
   "metadata": {},
   "outputs": [],
   "source": [
    "# set a seed\n",
    "np.random.seed(7)\n",
    "FITproduct_widget(x, y)"
   ]
  },
  {
   "cell_type": "code",
   "execution_count": null,
   "id": "8532ea8d",
   "metadata": {},
   "outputs": [],
   "source": [
    "# set a seed\n",
    "np.random.seed(7)\n",
    "FITproduct2_widget(x, y)"
   ]
  },
  {
   "cell_type": "code",
   "execution_count": null,
   "id": "97977e4f",
   "metadata": {},
   "outputs": [],
   "source": [
    "# set a seed\n",
    "np.random.seed(7)\n",
    "# fitting the initial alpha response with 2 products is slow.... be prepared to wait....\n",
    "# ~ 3.5 minutes \n",
    "results = FITproduct2_batch(x, df)"
   ]
  },
  {
   "cell_type": "code",
   "execution_count": null,
   "id": "59b9afc7",
   "metadata": {},
   "outputs": [],
   "source": [
    "# to retrieve final results\n",
    "results[0]"
   ]
  },
  {
   "cell_type": "code",
   "execution_count": null,
   "id": "39aef344",
   "metadata": {},
   "outputs": [],
   "source": [
    "# to retrieve results as per the original method\n",
    "results[2]"
   ]
  },
  {
   "cell_type": "code",
   "execution_count": null,
   "id": "38737902",
   "metadata": {},
   "outputs": [],
   "source": [
    "# results[2] is an alternative form of the results[0]\n",
    "# slight differences in areas are due to rounding errors\n",
    "product_conversion_df(results[2])"
   ]
  },
  {
   "cell_type": "code",
   "execution_count": null,
   "id": "e14a31c2",
   "metadata": {},
   "outputs": [],
   "source": [
    "results[3]"
   ]
  },
  {
   "cell_type": "code",
   "execution_count": null,
   "id": "57516b05",
   "metadata": {},
   "outputs": [],
   "source": [
    "########################################### Marziyeh's example ########################################### \n",
    "# import as csv\n",
    "x, df = load_data(folder='example data', filename='ChAT-Cre X D2EGFP(iSPN)-voltage clamp.csv', stim_time=322.5, baseline=True, time=True)"
   ]
  },
  {
   "cell_type": "code",
   "execution_count": null,
   "id": "2e4804d3",
   "metadata": {},
   "outputs": [],
   "source": [
    "df"
   ]
  },
  {
   "cell_type": "code",
   "execution_count": null,
   "id": "1a02e6f7",
   "metadata": {},
   "outputs": [],
   "source": [
    "# choose a column of data\n",
    "y = df.iloc[:, 6].values"
   ]
  },
  {
   "cell_type": "code",
   "execution_count": null,
   "id": "8794eabd",
   "metadata": {},
   "outputs": [],
   "source": [
    "# Example usage fitting product functions to simple response\n",
    "np.random.seed(7)\n",
    "FITproduct2(x, y)"
   ]
  },
  {
   "cell_type": "code",
   "execution_count": null,
   "id": "a16cd17d",
   "metadata": {},
   "outputs": [],
   "source": [
    "# using widget\n",
    "np.random.seed(7)\n",
    "FITproduct2_widget(x, y) \n"
   ]
  },
  {
   "cell_type": "code",
   "execution_count": null,
   "id": "e58e5aa6",
   "metadata": {},
   "outputs": [],
   "source": [
    "# batch analysis\n",
    "np.random.seed(7)\n",
    "results = FITproduct2_batch(x, df) "
   ]
  },
  {
   "cell_type": "code",
   "execution_count": null,
   "id": "c7153e59",
   "metadata": {},
   "outputs": [],
   "source": [
    "results[0]"
   ]
  },
  {
   "cell_type": "code",
   "execution_count": null,
   "id": "f8e48d45",
   "metadata": {},
   "outputs": [],
   "source": [
    "# results in the original format\n",
    "results[2]"
   ]
  },
  {
   "cell_type": "code",
   "execution_count": null,
   "id": "b15036e9",
   "metadata": {},
   "outputs": [],
   "source": [
    "# can be converted to required output \n",
    "product_conversion_df(results[2])"
   ]
  },
  {
   "cell_type": "code",
   "execution_count": null,
   "id": "6f8d8591",
   "metadata": {},
   "outputs": [],
   "source": [
    "########################################### Tamara's example ########################################### \n",
    "# import as xlsx\n",
    "x, df = load_data(folder='example data', filename='data4_TPR.xlsx', stim_time=1349, baseline=True, time=True)"
   ]
  },
  {
   "cell_type": "code",
   "execution_count": null,
   "id": "900c8cb4",
   "metadata": {},
   "outputs": [],
   "source": [
    "df"
   ]
  },
  {
   "cell_type": "code",
   "execution_count": null,
   "id": "b1af1639",
   "metadata": {},
   "outputs": [],
   "source": [
    "# choose a column of data\n",
    "y = df.iloc[:,0].values    \n",
    "# Example usage widget fitting\n",
    "np.random.seed(7)\n",
    "FITproduct2_widget(x, y)"
   ]
  },
  {
   "cell_type": "code",
   "execution_count": null,
   "id": "cc2674c1",
   "metadata": {},
   "outputs": [],
   "source": [
    "# choose a column of data\n",
    "y = df.iloc[:,0].values\n",
    "# Example usage of single fitting:\n",
    "np.random.seed(7)\n",
    "FITproduct2(x, y)"
   ]
  },
  {
   "cell_type": "code",
   "execution_count": null,
   "id": "f8fd1477",
   "metadata": {},
   "outputs": [],
   "source": [
    "# batch analysis\n",
    "np.random.seed(7)\n",
    "results1 = FITproduct2_batch(x, df)"
   ]
  },
  {
   "cell_type": "code",
   "execution_count": null,
   "id": "083e411b",
   "metadata": {},
   "outputs": [],
   "source": [
    "results1[0]"
   ]
  },
  {
   "cell_type": "code",
   "execution_count": null,
   "id": "0788c47f",
   "metadata": {},
   "outputs": [],
   "source": [
    "y = df.iloc[:, 4].values\n",
    "# revisiting trace 4\n",
    "np.random.seed(7)\n",
    "FITproduct2(x[0:2000], y[0:2000])"
   ]
  },
  {
   "cell_type": "code",
   "execution_count": null,
   "id": "d9c54e32",
   "metadata": {},
   "outputs": [],
   "source": [
    "# second set of data\n",
    "x, df = load_data(folder='example data', filename='data5_TPR.xlsx', stim_time=1349, baseline=True, time=True)"
   ]
  },
  {
   "cell_type": "code",
   "execution_count": null,
   "id": "56595616",
   "metadata": {},
   "outputs": [],
   "source": [
    "# Example usage of single fitting:\n",
    "np.random.seed(7)\n",
    "FITproduct2(x, y= df.iloc[:, 2].values)"
   ]
  },
  {
   "cell_type": "code",
   "execution_count": null,
   "id": "44bc22e6",
   "metadata": {},
   "outputs": [],
   "source": [
    "# batch analysis\n",
    "np.random.seed(7)\n",
    "results2 = FITproduct2_batch(x, df)"
   ]
  },
  {
   "cell_type": "code",
   "execution_count": null,
   "id": "adebf4e5",
   "metadata": {},
   "outputs": [],
   "source": [
    "results2[0]"
   ]
  }
 ],
 "metadata": {
  "kernelspec": {
   "display_name": "Python 3 (ipykernel)",
   "language": "python",
   "name": "python3"
  },
  "language_info": {
   "codemirror_mode": {
    "name": "ipython",
    "version": 3
   },
   "file_extension": ".py",
   "mimetype": "text/x-python",
   "name": "python",
   "nbconvert_exporter": "python",
   "pygments_lexer": "ipython3",
   "version": "3.11.5"
  }
 },
 "nbformat": 4,
 "nbformat_minor": 5
}
