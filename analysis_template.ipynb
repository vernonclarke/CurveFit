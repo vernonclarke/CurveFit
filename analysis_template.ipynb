{
 "cells": [
  {
   "cell_type": "code",
   "execution_count": null,
   "id": "d96b7d3a",
   "metadata": {},
   "outputs": [],
   "source": [
    "# run this to import all necessary functions\n",
    "import os\n",
    "from os import walk\n",
    "import numpy as np\n",
    "import pandas as pd\n",
    "import random\n",
    "import math\n",
    "import plotly.graph_objects as go\n",
    "from scipy.optimize import minimize\n",
    "from scipy.optimize import curve_fit\n",
    "from scipy.optimize import least_squares\n",
    "from scipy.optimize import fsolve\n",
    "from scipy.stats import norm\n",
    "from tqdm import tqdm\n",
    "import warnings\n",
    "# alternative to optimisation by curvefit\n",
    "from scipy.optimize import differential_evolution\n",
    "from scipy.signal import butter, lfilter\n",
    "from scipy import stats\n",
    "from ipywidgets import interact, FloatSlider\n",
    "# for plotly graph display offline inside the notebook itself.\n",
    "import plotly.offline as pyo\n",
    "from plotly.offline import init_notebook_mode\n",
    "import os\n",
    "# install helper functions\n",
    "from master_functions import *"
   ]
  },
  {
   "cell_type": "code",
   "execution_count": null,
   "id": "ae683b25",
   "metadata": {},
   "outputs": [],
   "source": [
    "# load data\n",
    "folder='your folder'\n",
    "filename='your data.csv'\n",
    "\n",
    "stim_time = 25 # change to correct value\n",
    "baseline = True # if mean of baseline has not been substracted from traces\n",
    "time = True # if 1st column of your xlxs/csv file is time in ms\n",
    "\n",
    "x, df = load_data(folder=folder, filename=filename, stim_time=stim_time, baseline=baseline, time=time)\n",
    "\n",
    "# if Time is not included then require the time step dt (in ms); This will most likely be 0.1 ms (i.e. 10KHz) \n",
    "# or 0.05 ms (i.e. 20KHz). And if it's higher than 0.1 ms, it probably shouldn't be for ephys\n",
    "# if Time = False then do this:\n",
    "# dt = 0.1\n",
    "# x, df = load_data(folder='your folder', filename='your data.csv', stim_time=stim_time, baseline=baseline, dt=dt, time=False)\n"
   ]
  },
  {
   "cell_type": "code",
   "execution_count": null,
   "id": "f79f04d2",
   "metadata": {},
   "outputs": [],
   "source": [
    "# examine DataFrame\n",
    "df"
   ]
  },
  {
   "cell_type": "code",
   "execution_count": null,
   "id": "bbd88688",
   "metadata": {},
   "outputs": [],
   "source": [
    "# to analyse a single trace\n",
    "# choose a column of data eg 4th column (Python nomenclature labels 1st column as 0 not 1!)\n",
    "\n",
    "y = df.iloc[:, 3].values# Example usage fitting single alpha\n",
    "# set a seed\n",
    "np.random.seed(7)\n",
    "FITproduct2(x, y)\n"
   ]
  },
  {
   "cell_type": "code",
   "execution_count": null,
   "id": "8532ea8d",
   "metadata": {},
   "outputs": [],
   "source": [
    "# using widget\n",
    "np.random.seed(7)\n",
    "FITproduct2_widget(x, y)"
   ]
  },
  {
   "cell_type": "code",
   "execution_count": null,
   "id": "97977e4f",
   "metadata": {
    "scrolled": false
   },
   "outputs": [],
   "source": [
    "# batch analysis\n",
    "np.random.seed(7)\n",
    "results = FITproduct2_batch(x, df)"
   ]
  },
  {
   "cell_type": "code",
   "execution_count": null,
   "id": "59b9afc7",
   "metadata": {},
   "outputs": [],
   "source": [
    "# to retrieve final results (the one you want)\n",
    "results[0]"
   ]
  },
  {
   "cell_type": "code",
   "execution_count": null,
   "id": "39aef344",
   "metadata": {},
   "outputs": [],
   "source": [
    "# to retrieve results as per the original method\n",
    "results[2]"
   ]
  },
  {
   "cell_type": "code",
   "execution_count": null,
   "id": "38737902",
   "metadata": {},
   "outputs": [],
   "source": [
    "# results[2] is an alternative form of the results[0]\n",
    "# slight differences in areas are due to rounding errors\n",
    "product_conversion_df(results[2])"
   ]
  },
  {
   "cell_type": "code",
   "execution_count": null,
   "id": "e14a31c2",
   "metadata": {},
   "outputs": [],
   "source": [
    "results[3]"
   ]
  }
 ],
 "metadata": {
  "kernelspec": {
   "display_name": "Python 3 (ipykernel)",
   "language": "python",
   "name": "python3"
  },
  "language_info": {
   "codemirror_mode": {
    "name": "ipython",
    "version": 3
   },
   "file_extension": ".py",
   "mimetype": "text/x-python",
   "name": "python",
   "nbconvert_exporter": "python",
   "pygments_lexer": "ipython3",
   "version": "3.11.5"
  }
 },
 "nbformat": 4,
 "nbformat_minor": 5
}
