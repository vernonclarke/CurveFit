{
 "cells": [
  {
   "cell_type": "code",
   "execution_count": 7,
   "id": "0feabd4a-91ac-4d76-a8f9-34f63ae54acc",
   "metadata": {},
   "outputs": [],
   "source": [
    "# for faster version using JIT (just-in-time) compiler \n",
    "JIT = True\n",
    "\n",
    "if JIT:\n",
    "    from master_functions_jit import *\n",
    "else:\n",
    "    from master_functions import *\n"
   ]
  },
  {
   "cell_type": "code",
   "execution_count": 8,
   "id": "e0900930-6f75-42ed-bc73-bc3b4d31777d",
   "metadata": {},
   "outputs": [],
   "source": [
    "dt = 0.05\n",
    "bl = 20 # baseline\n",
    "x1 = np.arange(0, 140, dt) \n",
    "rms = 2"
   ]
  },
  {
   "cell_type": "code",
   "execution_count": 9,
   "id": "7a37cb0d-98ce-4981-868e-eb8b76d5cdbc",
   "metadata": {},
   "outputs": [],
   "source": [
    "np.random.seed(42)\n",
    "# create 5 responses at given ISI\n",
    "ISI = 20  # frequency in Hz\n",
    "params = [50, 80, 100, 110, 110, 5]  # Example parameter list of form [A1, A2, A3, A4, A4, tau]\n",
    "if JIT: params = List([p for p in params]) # convert to a Numba typed list\n",
    "n = len(params) - 1  # number of responses is one less than the length of params\n",
    "\n",
    "# Generate the individual and combined alpha responses\n",
    "# all_resp, y = model_n(params, ISI, n, x)\n",
    "all_resp, y = model_n(params, ISI, n, x1, model='alpha')\n",
    "\n",
    "# add a baseline\n",
    "idx = int(bl/dt) - 1\n",
    "y = np.concatenate([np.zeros(idx), y])\n",
    "x = np.arange(0, len(y))*dt\n",
    "\n",
    "all_y = []\n",
    "for res in all_resp:\n",
    "    all_y.append(np.concatenate([np.zeros(idx), res]))\n",
    "    \n",
    "# add noise    \n",
    "y1 = y + np.random.normal(0, rms, len(x))"
   ]
  },
  {
   "cell_type": "code",
   "execution_count": null,
   "id": "f3cdc9c3-5f68-47a9-a7aa-6cb18dbffcaf",
   "metadata": {},
   "outputs": [],
   "source": []
  }
 ],
 "metadata": {
  "kernelspec": {
   "display_name": "Python 3 (ipykernel)",
   "language": "python",
   "name": "python3"
  },
  "language_info": {
   "codemirror_mode": {
    "name": "ipython",
    "version": 3
   },
   "file_extension": ".py",
   "mimetype": "text/x-python",
   "name": "python",
   "nbconvert_exporter": "python",
   "pygments_lexer": "ipython3",
   "version": "3.11.5"
  }
 },
 "nbformat": 4,
 "nbformat_minor": 5
}
