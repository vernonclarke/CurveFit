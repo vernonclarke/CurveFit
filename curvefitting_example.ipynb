{
 "cells": [
  {
   "cell_type": "markdown",
   "id": "3f16e466",
   "metadata": {},
   "source": [
    "# <center>Code guide</center>\n",
    "\n",
    "### run this to import all necessary functions:\n",
    "```python\n",
    "import os\n",
    "from os import walk\n",
    "import pickle\n",
    "import numpy as np\n",
    "import pandas as pd\n",
    "import random\n",
    "import math\n",
    "import plotly.graph_objects as go\n",
    "from scipy.optimize import minimize\n",
    "from scipy.optimize import curve_fit\n",
    "from scipy.optimize import least_squares\n",
    "from scipy.optimize import fsolve\n",
    "from scipy.stats import norm\n",
    "from tqdm import tqdm\n",
    "import warnings\n",
    "# alternative to optimisation by curvefit\n",
    "from scipy.optimize import differential_evolution\n",
    "from scipy.signal import butter, lfilter\n",
    "from scipy import stats\n",
    "from ipywidgets import interact, FloatSlider\n",
    "# for plotly graph display offline inside the notebook itself.\n",
    "import plotly.offline as pyo\n",
    "from plotly.offline import init_notebook_mode\n",
    "# provided helper functions\n",
    "from master_functions import *\n",
    "```\n",
    "\n",
    "\n",
    "### As an example, 4 responses with different characteristics were generated. The example is provided <span style=\"font-size: 80%;\">(there is no need to repeat steps 1-8 detailed here)</span>:\n",
    "\n",
    "1. **setting up:**\n",
    "```python\n",
    "dt = 0.05\n",
    "x2 = np.arange(0, 100, dt) \n",
    "rms = 1\n",
    "baseline = 25 # add a baseline period\n",
    "x1 = np.arange(0, baseline, dt) \n",
    "```\n",
    "\n",
    "2.  **alpha:**\n",
    "```python\n",
    "np.random.seed(42) # set a seed to make egs reproducible\n",
    "params1 = [50, 10] \n",
    "y1 = alpha_alt(params1, x2) + np.random.normal(0,rms,len(x2))\n",
    "bl1 = np.random.normal(0,rms,len(x1))\n",
    "y1 = np.concatenate((bl1, y1))\n",
    "```\n",
    "\n",
    "3. **sum of 2 alphas:**\n",
    "```python\n",
    "params2 = [15, 5, 35, 10] \n",
    "y = alpha2(params, x) + np.random.normal(0,2,len(x))\n",
    "y2 = alpha2_alt(params2, x2) + np.random.normal(0,rms,len(x2))\n",
    "bl2 = np.random.normal(0,rms,len(x1))\n",
    "y2 = np.concatenate((bl2, y2))\n",
    "```\n",
    "4. **product**:\n",
    "```python\n",
    "params3 = [50, 5, 20] \n",
    "y3 = product_alt(params3, x2) + np.random.normal(0,rms,len(x2))\n",
    "bl3 = np.random.normal(0,rms,len(x1))\n",
    "y3 = np.concatenate((bl3, y3))\n",
    "```\n",
    "5. **sum of 2 products:**\n",
    "```python\n",
    "params4 = [35, 5, 15, 15, 10, 30] \n",
    "y4 = product2_alt(params4, x2) + np.random.normal(0,rms,len(x2))\n",
    "bl4 = np.random.normal(0,rms,len(x1))\n",
    "y4 = np.concatenate((bl4, y4))\n",
    "x = np.arange(0, 125, dt)\n",
    "```\n",
    "6. **create a dataframe:**\n",
    "```python\n",
    "df = pd.DataFrame({\n",
    "    'x': x,\n",
    "    'y1': y1,\n",
    "    'y2': y2,\n",
    "    'y3': y3,\n",
    "    'y4': y4\n",
    "})\n",
    "```\n",
    "\n",
    "7. **check if the directory exists, if not create it:**\n",
    "```python\n",
    "directory = \"example data\"\n",
    "if not os.path.exists(directory):\n",
    "    os.makedirs(directory)\n",
    "```\n",
    "\n",
    "8. **export the dataframe to a csv file with explicit comma delimiter:**\n",
    "```python\n",
    "df.to_csv(os.path.join(directory, 'eg_data.csv'), sep=',', index=False)\n",
    "```\n",
    "\n",
    "\n",
    "### Analysing provided example\n",
    "\n",
    "1. **load example data:**\n",
    "```python\n",
    "x, df = load_data(folder='example data', filename='eg_data.csv', stim_time=25, baseline=True, time=True)\n",
    "```\n",
    "\n",
    "2. **choose a trace (in this case, the 4th in the dataframe, df):**\n",
    "```python\n",
    "y = df.iloc[:, 3].values\n",
    "```\n",
    "**nb** if data contains n traces then inputing ```y = df.iloc[:, 0].values``` retrieves the first trace and ```y = df.iloc[:, n-1].values ``` the last one\n",
    "\n",
    "3. **fitting sum of 2 product functions to individual traces:**\n",
    "```python\n",
    "# set a seed\n",
    "np.random.seed(7)\n",
    "FITproduct2(x, y)\n",
    "```\n",
    "\n",
    "4. **batch fitting sum of 2 product functions to all traces:**\n",
    "```python\n",
    "# set a seed\n",
    "np.random.seed(7)\n",
    "results = FITproduct2_batch(x, y)\n",
    "# to view the results:\n",
    "results[0]\n",
    "# also returns results as per the original method:\n",
    "results[2]\n",
    "# results[2] is an alternative form of the results[0]; results[2] can be converted to a (shortened) form of results[0] using:\n",
    "product_conversion_df(results[2])\n",
    "# nb. slight differences in areas are due to rounding errors\n",
    "```\n",
    "5. **using the widget to fit individual traces:**\n",
    "```python\n",
    "# set a seed\n",
    "np.random.seed(7)\n",
    "FITproduct2_widget(x, y)\n",
    "```\n",
    "\n"
   ]
  },
  {
   "cell_type": "code",
   "execution_count": null,
   "id": "d96b7d3a",
   "metadata": {},
   "outputs": [],
   "source": [
    "# run this to import all necessary functions\n",
    "import os\n",
    "from os import walk\n",
    "import numpy as np\n",
    "import pandas as pd\n",
    "import random\n",
    "import math\n",
    "import plotly.graph_objects as go\n",
    "from scipy.optimize import minimize\n",
    "from scipy.optimize import curve_fit\n",
    "from scipy.optimize import least_squares\n",
    "from scipy.optimize import fsolve\n",
    "from scipy.stats import norm\n",
    "from tqdm import tqdm\n",
    "import warnings\n",
    "# alternative to optimisation by curvefit\n",
    "from scipy.optimize import differential_evolution\n",
    "from scipy.signal import butter, lfilter\n",
    "from scipy import stats\n",
    "from ipywidgets import interact, FloatSlider\n",
    "\n",
    "# for plotly graph display offline inside the notebook itself.\n",
    "import plotly.offline as pyo\n",
    "from plotly.offline import init_notebook_mode\n",
    "import os\n",
    "\n",
    "from master_functions import *\n",
    "\n",
    "# from helper_functions import *"
   ]
  },
  {
   "cell_type": "code",
   "execution_count": null,
   "id": "ae683b25",
   "metadata": {},
   "outputs": [],
   "source": [
    "# load example data\n",
    "x, df = load_data(folder='example data', filename='eg_data.csv', stim_time=25, baseline=True, time=True)"
   ]
  },
  {
   "cell_type": "code",
   "execution_count": null,
   "id": "bbd88688",
   "metadata": {},
   "outputs": [],
   "source": [
    "# choose a column of data\n",
    "y = df.iloc[:, 3].values"
   ]
  },
  {
   "cell_type": "code",
   "execution_count": null,
   "id": "4cb90a9a",
   "metadata": {},
   "outputs": [],
   "source": [
    "# Example usage fitting single alpha\n",
    "# set a seed\n",
    "np.random.seed(7)\n",
    "FITalpha(x, y)"
   ]
  },
  {
   "cell_type": "code",
   "execution_count": null,
   "id": "4fd32221",
   "metadata": {},
   "outputs": [],
   "source": [
    "# Example usage fitting sum of 2 alpha functions to simple product above\n",
    "# set a seed\n",
    "np.random.seed(7)\n",
    "FITalpha2(x, y)"
   ]
  },
  {
   "cell_type": "code",
   "execution_count": null,
   "id": "770f48cb",
   "metadata": {},
   "outputs": [],
   "source": [
    "# Example usage fitting product functions to simple response\n",
    "# set a seed\n",
    "np.random.seed(7)\n",
    "FITproduct(x, y)"
   ]
  },
  {
   "cell_type": "code",
   "execution_count": null,
   "id": "bb27c804",
   "metadata": {
    "scrolled": false
   },
   "outputs": [],
   "source": [
    "# Example usage fitting product functions to simple response\n",
    "# set a seed\n",
    "np.random.seed(7)\n",
    "FITproduct2(x, y)"
   ]
  },
  {
   "cell_type": "code",
   "execution_count": null,
   "id": "f7018b7e",
   "metadata": {},
   "outputs": [],
   "source": [
    "# set a seed\n",
    "np.random.seed(7)\n",
    "FITproduct_widget(x, y)"
   ]
  },
  {
   "cell_type": "code",
   "execution_count": null,
   "id": "8532ea8d",
   "metadata": {},
   "outputs": [],
   "source": [
    "# set a seed\n",
    "np.random.seed(7)\n",
    "FITproduct2_widget(x, y)"
   ]
  },
  {
   "cell_type": "code",
   "execution_count": null,
   "id": "97977e4f",
   "metadata": {
    "scrolled": false
   },
   "outputs": [],
   "source": [
    "# set a seed\n",
    "np.random.seed(7)\n",
    "# fitting the initial alpha response with 2 products is slow.... be prepared to wait\n",
    "results = FITproduct2_batch(x, df)"
   ]
  },
  {
   "cell_type": "code",
   "execution_count": null,
   "id": "59b9afc7",
   "metadata": {},
   "outputs": [],
   "source": [
    "# to retrieve final results\n",
    "results[0]"
   ]
  },
  {
   "cell_type": "code",
   "execution_count": null,
   "id": "39aef344",
   "metadata": {},
   "outputs": [],
   "source": [
    "# to retrieve results as per the original method\n",
    "results[2]"
   ]
  },
  {
   "cell_type": "code",
   "execution_count": null,
   "id": "38737902",
   "metadata": {},
   "outputs": [],
   "source": [
    "# results[2] is an alternative form of the results[0]\n",
    "# slight differences in areas are due to rounding errors\n",
    "product_conversion_df(results[2])"
   ]
  },
  {
   "cell_type": "code",
   "execution_count": null,
   "id": "e14a31c2",
   "metadata": {},
   "outputs": [],
   "source": [
    "results[3]"
   ]
  },
  {
   "cell_type": "code",
   "execution_count": null,
   "id": "57516b05",
   "metadata": {},
   "outputs": [],
   "source": [
    "########################################### Marziyeh's example ########################################### \n",
    "# import as csv\n",
    "x, df = load_data(folder='example data', filename='ChAT-Cre X D2EGFP(iSPN)-voltage clamp.csv', stim_time=322.5, baseline=True, time=True)"
   ]
  },
  {
   "cell_type": "code",
   "execution_count": null,
   "id": "2e4804d3",
   "metadata": {},
   "outputs": [],
   "source": [
    "df"
   ]
  },
  {
   "cell_type": "code",
   "execution_count": null,
   "id": "1a02e6f7",
   "metadata": {},
   "outputs": [],
   "source": [
    "# choose a column of data\n",
    "y = df.iloc[:, 6].values"
   ]
  },
  {
   "cell_type": "code",
   "execution_count": null,
   "id": "8794eabd",
   "metadata": {
    "scrolled": false
   },
   "outputs": [],
   "source": [
    "# Example usage fitting product functions to simple response\n",
    "np.random.seed(7)\n",
    "FITproduct2(x, y)"
   ]
  },
  {
   "cell_type": "code",
   "execution_count": null,
   "id": "a16cd17d",
   "metadata": {},
   "outputs": [],
   "source": [
    "# using widget\n",
    "np.random.seed(7)\n",
    "FITproduct2_widget(x, y) \n"
   ]
  },
  {
   "cell_type": "code",
   "execution_count": null,
   "id": "e58e5aa6",
   "metadata": {
    "scrolled": false
   },
   "outputs": [],
   "source": [
    "# batch analysis\n",
    "np.random.seed(7)\n",
    "results = FITproduct2_batch(x, df) "
   ]
  },
  {
   "cell_type": "code",
   "execution_count": null,
   "id": "c7153e59",
   "metadata": {},
   "outputs": [],
   "source": [
    "results[0]"
   ]
  },
  {
   "cell_type": "code",
   "execution_count": null,
   "id": "f8e48d45",
   "metadata": {},
   "outputs": [],
   "source": [
    "# results in the original format\n",
    "results[2]"
   ]
  },
  {
   "cell_type": "code",
   "execution_count": null,
   "id": "b15036e9",
   "metadata": {},
   "outputs": [],
   "source": [
    "# can be converted to required output \n",
    "product_conversion_df(results[2])"
   ]
  },
  {
   "cell_type": "code",
   "execution_count": null,
   "id": "6f8d8591",
   "metadata": {},
   "outputs": [],
   "source": [
    "########################################### Tamara's example ########################################### \n",
    "# import as xlsx\n",
    "x, df = load_data(folder='example data', filename='data4_TPR.xlsx', stim_time=1349, baseline=True, time=True)"
   ]
  },
  {
   "cell_type": "code",
   "execution_count": null,
   "id": "900c8cb4",
   "metadata": {},
   "outputs": [],
   "source": [
    "df"
   ]
  },
  {
   "cell_type": "code",
   "execution_count": null,
   "id": "b1af1639",
   "metadata": {},
   "outputs": [],
   "source": [
    "# choose a column of data\n",
    "y = df.iloc[:,0].values    \n",
    "# Example usage widget fitting\n",
    "np.random.seed(7)\n",
    "FITproduct2_widget(x, y)"
   ]
  },
  {
   "cell_type": "code",
   "execution_count": null,
   "id": "cc2674c1",
   "metadata": {},
   "outputs": [],
   "source": [
    "# choose a column of data\n",
    "y = df.iloc[:,0].values\n",
    "# Example usage of single fitting:\n",
    "np.random.seed(7)\n",
    "FITproduct2(x, y)"
   ]
  },
  {
   "cell_type": "code",
   "execution_count": null,
   "id": "f8fd1477",
   "metadata": {
    "scrolled": false
   },
   "outputs": [],
   "source": [
    "# batch analysis\n",
    "np.random.seed(7)\n",
    "results1 = FITproduct2_batch(x, df)"
   ]
  },
  {
   "cell_type": "code",
   "execution_count": null,
   "id": "083e411b",
   "metadata": {},
   "outputs": [],
   "source": [
    "results1[0]"
   ]
  },
  {
   "cell_type": "code",
   "execution_count": null,
   "id": "0788c47f",
   "metadata": {},
   "outputs": [],
   "source": [
    "y = df.iloc[:, 4].values\n",
    "# revisiting trace 4\n",
    "np.random.seed(7)\n",
    "FITproduct2(x[0:2000], y[0:2000])"
   ]
  },
  {
   "cell_type": "code",
   "execution_count": null,
   "id": "d9c54e32",
   "metadata": {},
   "outputs": [],
   "source": [
    "# second set of data\n",
    "x, df = load_data(folder='example data', filename='data5_TPR.xlsx', stim_time=1349, baseline=True, time=True)"
   ]
  },
  {
   "cell_type": "code",
   "execution_count": null,
   "id": "56595616",
   "metadata": {},
   "outputs": [],
   "source": [
    "# Example usage of single fitting:\n",
    "np.random.seed(7)\n",
    "FITproduct2(x, y= df.iloc[:, 2].values)"
   ]
  },
  {
   "cell_type": "code",
   "execution_count": null,
   "id": "44bc22e6",
   "metadata": {
    "scrolled": false
   },
   "outputs": [],
   "source": [
    "# batch analysis\n",
    "np.random.seed(7)\n",
    "results2 = FITproduct2_batch(x, df)"
   ]
  },
  {
   "cell_type": "code",
   "execution_count": null,
   "id": "adebf4e5",
   "metadata": {},
   "outputs": [],
   "source": [
    "results2[0]"
   ]
  }
 ],
 "metadata": {
  "kernelspec": {
   "display_name": "Python 3 (ipykernel)",
   "language": "python",
   "name": "python3"
  },
  "language_info": {
   "codemirror_mode": {
    "name": "ipython",
    "version": 3
   },
   "file_extension": ".py",
   "mimetype": "text/x-python",
   "name": "python",
   "nbconvert_exporter": "python",
   "pygments_lexer": "ipython3",
   "version": "3.11.5"
  }
 },
 "nbformat": 4,
 "nbformat_minor": 5
}
